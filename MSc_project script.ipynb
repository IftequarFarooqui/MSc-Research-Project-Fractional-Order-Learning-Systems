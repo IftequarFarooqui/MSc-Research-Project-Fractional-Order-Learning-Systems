{
  "nbformat": 4,
  "nbformat_minor": 0,
  "metadata": {
    "colab": {
      "provenance": []
    },
    "kernelspec": {
      "name": "python3",
      "display_name": "Python 3"
    },
    "language_info": {
      "name": "python"
    }
  },
  "cells": [
    {
      "cell_type": "code",
      "execution_count": 2,
      "metadata": {
        "id": "eztvUYFoq5BP"
      },
      "outputs": [],
      "source": [
        "import random\n",
        "import numpy as np\n",
        "weights = np.array([]) # actual weights\n",
        "inputs = np.array([]) # Inputs\n",
        "predicted_weights = np.array([])\n",
        "for i in range(7000):\n",
        "  weights = np.append(weights, round(random.uniform(0, 0.9), 2))\n",
        "  predicted_weights = np.append(predicted_weights, round(random.uniform(0, 0.9), 2))\n",
        "  inputs = np.append(inputs, random.randint(1, 5))\n",
        "actual_output = np.dot(weights, inputs)"
      ]
    },
    {
      "cell_type": "code",
      "source": [
        "import numpy as np\n",
        "import matplotlib.pyplot as plt\n",
        "# Define a Neuron class\n",
        "class Neuron:\n",
        "\n",
        "    # Constructor to initialize inputs and weights\n",
        "    def __init__(self, inputs, weights, actual_output, power, learning_rate=0.1, iterations= None):\n",
        "        self.inputs = inputs    # Store input values\n",
        "        self.weights = weights  # Store weight values\n",
        "        self.actual_output = actual_output  # Store actual output\n",
        "        self.learning_rate = learning_rate  # Set learning rate for gradient descent\n",
        "        self.iterations = iterations  # Number of iterations for training\n",
        "        self.power = power\n",
        "        self.loss_history = []\n",
        "\n",
        "    # Method to compute the weighted sum (Z = X1*W1 + X2*W2 + ... + Xn*Wn)\n",
        "    def weightedSum(self):\n",
        "        return np.dot(self.inputs, self.weights)  # Compute dot product of inputs and weights\n",
        "\n",
        "    # Sigmoid activation function to introduce non-linearity\n",
        "    def sigmoid(self, z):\n",
        "        return z # 1 / (1 + np.exp(-z))  # Compute sigmoid: 1 / (1 + e^(-z))\n",
        "\n",
        "    # Mean Squared Error (MSE) Calculation\n",
        "    def computeMSE(self, predicted_output):\n",
        "        return np.mean(self.actual_output - predicted_output) ** 2\n",
        "\n",
        "    # Fraction Power to a value\n",
        "    def fracPower(self, value, power):\n",
        "      if value >= 0:\n",
        "        return np.abs(value) ** power\n",
        "      else:\n",
        "        return -1 * np.abs(value) ** power\n",
        "\n",
        "\n",
        "    # Method to perform Gradient Descent and update weights\n",
        "    def train(self):\n",
        "        for i in range(self.iterations):\n",
        "            z = self.weightedSum()\n",
        "            predicted_output = self.sigmoid(z)\n",
        "\n",
        "            # Compute MSE Loss\n",
        "            loss = self.computeMSE(predicted_output)\n",
        "            self.loss_history.append(loss)\n",
        "\n",
        "            # Compute gradient of MSE w.r.t. weights\n",
        "            error = predicted_output - self.actual_output\n",
        "\n",
        "            # Apply fractional Power\n",
        "            for i in range(len(self.inputs)):\n",
        "              self.inputs[i] = self.fracPower(self.inputs[i], self.power)\n",
        "\n",
        "            gradient = self.fracPower(error, self.power) * self.inputs  # Derivative of MSE\n",
        "\n",
        "            # print(f\"This is error : {self.inputs}\")\n",
        "\n",
        "            # gradient = self.fracPower(error,2-beta) * self.fracPower(self.input,beta)\n",
        "            # def FracPower(input,order)\n",
        "            # sign(input)*( abs(input)**(beta)\n",
        "\n",
        "            # Update weights using Gradient Descent\n",
        "            # print(weights)\n",
        "            self.weights -= self.learning_rate * gradient\n",
        "\n",
        "            # Print loss for every iterations\n",
        "            # print(f\"Iteration {i}: Loss = {loss:.2f}\")\n",
        "\n",
        "    # Method to calculate the final output of the neuron\n",
        "    def output(self):\n",
        "        z = self.weightedSum()  # Compute weighted\n",
        "        return self.sigmoid(z)  # Apply sigmoid activation and return final output\n",
        "\n",
        "    def plotLoss(self):\n",
        "        \"\"\"Plot loss over iterations.\"\"\"\n",
        "        plt.plot(range(self.iterations), self.loss_history, label=\"Loss\")\n",
        "        plt.xlabel(\"Iterations\")\n",
        "        plt.ylabel(\"Loss (MSE)\")\n",
        "        plt.title(\"Loss Reduction Over Iterations\")\n",
        "        plt.legend()\n",
        "        plt.show()\n",
        "\n",
        "\n",
        "\n",
        "power = 0.1\n",
        "\n",
        "# Create an instance of the Neuron class\n",
        "obj = Neuron(inputs, predicted_weights, actual_output, power, iterations=100)\n",
        "\n",
        "# Train the neuron\n",
        "obj.train()\n",
        "\n",
        "# Compute and print the final neuron's output after training\n",
        "print(f\"Final Output of a Neuron = {obj.output()}, over actual output {actual_output}\")"
      ],
      "metadata": {
        "colab": {
          "base_uri": "https://localhost:8080/"
        },
        "id": "bdTRx4BZrBxe",
        "outputId": "6212b88f-63f8-4f02-876d-52180d31522b"
      },
      "execution_count": 3,
      "outputs": [
        {
          "output_type": "stream",
          "name": "stdout",
          "text": [
            "Final Output of a Neuron = 8831.119482941796, over actual output 9502.15\n"
          ]
        }
      ]
    },
    {
      "cell_type": "code",
      "source": [
        "# Plot Loss Curve\n",
        "obj.plotLoss()"
      ],
      "metadata": {
        "colab": {
          "base_uri": "https://localhost:8080/",
          "height": 472
        },
        "id": "FeIBCGEwrIeC",
        "outputId": "1d9cd5eb-53ee-416c-fa21-cb553f726a46"
      },
      "execution_count": 4,
      "outputs": [
        {
          "output_type": "display_data",
          "data": {
            "text/plain": [
              "<Figure size 640x480 with 1 Axes>"
            ],
            "image/png": "[encoded data removed]"
          },
          "metadata": {}
        }
      ]
    }
  ]
}